{
 "cells": [
  {
   "cell_type": "code",
   "execution_count": 15,
   "metadata": {},
   "outputs": [],
   "source": [
    "import matplotlib.pyplot as plt\n",
    "import os\n",
    "import random \n",
    "import cv2\n",
    "import numpy as np\n",
    "import requests\n",
    "import warnings\n",
    "import google.generativeai as genai\n",
    "import firebase_admin\n",
    "import logging\n",
    "import tempfile\n",
    "import dotenv\n",
    "\n",
    "dotenv.load_dotenv()\n",
    "\n",
    "from urllib.parse import urlparse\n",
    "from firebase_admin import credentials, firestore, storage\n",
    "from ultralytics import YOLO\n",
    "from gradio_client import Client\n",
    "\n",
    "random.seed(42)\n",
    "np.random.seed(42)\n",
    "warnings.filterwarnings('ignore')\n",
    "warnings.simplefilter('ignore')"
   ]
  },
  {
   "cell_type": "code",
   "execution_count": 16,
   "metadata": {},
   "outputs": [],
   "source": [
    "cred = credentials.Certificate(\"credential/credential.json\")\n",
    "firebase_admin.initialize_app(cred) if not firebase_admin._apps else firebase_admin.get_app()\n",
    "\n",
    "logging.basicConfig(level=logging.INFO)\n",
    "logger = logging.getLogger(__name__)"
   ]
  },
  {
   "cell_type": "code",
   "execution_count": 17,
   "metadata": {},
   "outputs": [
    {
     "name": "stderr",
     "output_type": "stream",
     "text": [
      "INFO:__main__:Firebase initialized successfully.\n"
     ]
    }
   ],
   "source": [
    "db = firestore.client()\n",
    "bucket = storage.bucket(name='planktosee-temp-file')\n",
    "logger.info(\"Firebase initialized successfully.\")"
   ]
  },
  {
   "cell_type": "code",
   "execution_count": 120,
   "metadata": {},
   "outputs": [
    {
     "name": "stderr",
     "output_type": "stream",
     "text": [
      "INFO:__main__:Connected to Firestore successfully.\n"
     ]
    }
   ],
   "source": [
    "try:\n",
    "    db = firestore.client()\n",
    "    bucket = storage.bucket(name='planktosee-temp-file')\n",
    "    logger.info(\"Connected to Firestore successfully.\")\n",
    "    \n",
    "except Exception as e:\n",
    "    logger.error(f\"Error connecting to Firestore: {e}\")"
   ]
  },
  {
   "cell_type": "code",
   "execution_count": null,
   "metadata": {},
   "outputs": [],
   "source": [
    "def extract_gcs_path(image_url):\n",
    "    parsed_url = urlparse(image_url)\n",
    "    path_parts = parsed_url.path.lstrip(\"/\").split(\"/\", 1)\n",
    "    \n",
    "    if len(path_parts) > 1:\n",
    "        return path_parts[1] \n",
    "    return None  \n",
    "\n",
    "def load_image_from_firebase(image_url):\n",
    "    gcs_path = extract_gcs_path(image_url)\n",
    "    if not gcs_path:\n",
    "        raise ValueError(f\"Invalid GCS URL: {image_url}\")\n",
    "\n",
    "    blob = bucket.blob(gcs_path)\n",
    "\n",
    "    with tempfile.NamedTemporaryFile(delete=False, suffix=\".jpg\") as temp_file:\n",
    "        temp_file_path = temp_file.name \n",
    "\n",
    "    blob.download_to_filename(temp_file_path)\n",
    "    \n",
    "    return temp_file_path "
   ]
  },
  {
   "cell_type": "code",
   "execution_count": null,
   "metadata": {},
   "outputs": [],
   "source": [
    "import tempfile\n",
    "\n",
    "def load_image_from_firebase(image_url):\n",
    "    blob = bucket.blob(image_url)\n",
    "\n",
    "    with tempfile.NamedTemporaryFile(delete=False, suffix=\".jpg\") as temp_file:\n",
    "        blob.download_to_filename(temp_file.name)\n",
    "        temp_file_path = temp_file.name \n",
    "\n",
    "    return temp_file_path "
   ]
  },
  {
   "cell_type": "code",
   "execution_count": null,
   "metadata": {},
   "outputs": [],
   "source": [
    "def load_text_from_firebase(text_url):\n",
    "    response = requests.get(text_url)\n",
    "    \n",
    "    if response.status_code == 200:\n",
    "        text = response.text\n",
    "    else:\n",
    "        logger.error(f\"Failed to load text from Firebase: {response.status_code}\")\n",
    "    return text"
   ]
  },
  {
   "cell_type": "code",
   "execution_count": null,
   "metadata": {},
   "outputs": [
    {
     "data": {
      "text/plain": [
       "'https://storage.googleapis.com/planktosee-temp-file/images/signature.png'"
      ]
     },
     "execution_count": 51,
     "metadata": {},
     "output_type": "execute_result"
    }
   ],
   "source": [
    "def upload_image_to_firebase(image_path):\n",
    "    blob = bucket.blob('images/' + os.path.basename(image_path))\n",
    "    blob.upload_from_filename(image_path)\n",
    "    blob.make_public()\n",
    "    return blob.public_url"
   ]
  },
  {
   "cell_type": "code",
   "execution_count": null,
   "metadata": {},
   "outputs": [
    {
     "name": "stderr",
     "output_type": "stream",
     "text": [
      "INFO:__main__:Image signature.png removed from Firebase Storage.\n"
     ]
    }
   ],
   "source": [
    "def remove_image_from_firebase(image_path):\n",
    "    blob = bucket.blob('images/' + os.path.basename(image_path))\n",
    "    blob.delete()\n",
    "    logger.info(f\"Image {image_path} removed from Firebase Storage.\")"
   ]
  },
  {
   "cell_type": "code",
   "execution_count": null,
   "metadata": {},
   "outputs": [],
   "source": [
    "models = genai.list_models()\n",
    "for model in models:\n",
    "    print(model.name)"
   ]
  },
  {
   "cell_type": "code",
   "execution_count": null,
   "metadata": {},
   "outputs": [],
   "source": [
    "def gemini(message):\n",
    "    genai.configure(api_key=os.environ.get(\"GOOGLE_API_KEY\"))\n",
    "\n",
    "    chatbot = genai.GenerativeModel(\"gemini-1.5-flash-002\")\n",
    "    system = f\"\"\"\n",
    "        Saya ingin mendapatkan penjelasan mendalam tentang taksonomi dan klasifikasi plankton {message}. Berikut adalah beberapa aspek utama yang perlu dijelaskan:  \n",
    "        1. *Hierarki Taksonomi dalam Plankton:*\n",
    "        2. *Kelompok Utama Plankton Berdasarkan Taksonomi:*  \n",
    "        3. *Klasifikasi Plankton Berdasarkan Kemampuan Bergerak:*  \n",
    "        4. *Klasifikasi Berdasarkan Habitat:*  \n",
    "        5. *Klasifikasi Berdasarkan Siklus Hidup:*  \n",
    "        6. *Klasifikasi Berdasarkan Fungsi dalam Ekosistem:*  \n",
    "        7. *Klasifikasi Berdasarkan Ukuran:*  \n",
    "        \"\"\"\n",
    "    response = chatbot.generate_content(system)\n",
    "    return response.text\n",
    "\n",
    "def qwen2(message):\n",
    "    client = Client(\"Qwen/Qwen2-57b-a14b-instruct-demo\")\n",
    "    result = client.predict(\n",
    "        query=message,\n",
    "        history=[],\n",
    "        system=\n",
    "            f\"\"\"\n",
    "            Saya ingin mendapatkan penjelasan mendalam tentang taksonomi dan klasifikasi plankton {message}. Berikut adalah beberapa aspek utama yang perlu dijelaskan:  \n",
    "            1. *Hierarki Taksonomi dalam Plankton:*\n",
    "            2. *Kelompok Utama Plankton Berdasarkan Taksonomi:*  \n",
    "            3. *Klasifikasi Plankton Berdasarkan Kemampuan Bergerak:*  \n",
    "            4. *Klasifikasi Berdasarkan Habitat:*  \n",
    "            5. *Klasifikasi Berdasarkan Siklus Hidup:*  \n",
    "            6. *Klasifikasi Berdasarkan Fungsi dalam Ekosistem:*  \n",
    "            7. *Klasifikasi Berdasarkan Ukuran:*  \n",
    "            \"\"\",\n",
    "        api_name=\"/model_chat\"\n",
    "    )\n",
    "    return result[1][0][1]\n",
    "\n",
    "def deepseek(message):\n",
    "    client = Client(\"Abubekersiraj/Deepseek\")\n",
    "    result = client.predict(\n",
    "        message=message,\n",
    "        system_message=f\"\"\"\n",
    "            Saya ingin mendapatkan penjelasan mendalam tentang taksonomi dan klasifikasi plankton {message}. Berikut adalah beberapa aspek utama yang perlu dijelaskan:  \n",
    "            1. *Hierarki Taksonomi dalam Plankton:*\n",
    "            2. *Kelompok Utama Plankton Berdasarkan Taksonomi:*  \n",
    "            3. *Klasifikasi Plankton Berdasarkan Kemampuan Bergerak:*  \n",
    "            4. *Klasifikasi Berdasarkan Habitat:*  \n",
    "            5. *Klasifikasi Berdasarkan Siklus Hidup:*  \n",
    "            6. *Klasifikasi Berdasarkan Fungsi dalam Ekosistem:*  \n",
    "            7. *Klasifikasi Berdasarkan Ukuran:*  \n",
    "            \"\"\",\n",
    "        max_tokens=2048,\n",
    "        temperature=0.1,\n",
    "        top_p=0.95,\n",
    "        api_name=\"/chat\"\n",
    "    )\n",
    "    return result\n",
    "\n",
    "deepseek(\"Plankton\")"
   ]
  },
  {
   "cell_type": "code",
   "execution_count": null,
   "metadata": {},
   "outputs": [],
   "source": [
    "def predict_img(model_option, llm_option, img_path):\n",
    "    if model_option == \"yolov8-detect\":\n",
    "        model = YOLO(\"../model/yolov8-detect.pt\")\n",
    "    elif model_option == \"yolov8-acvit\":\n",
    "        model = YOLO(\"../model/yolov8-acvit.pt\")\n",
    "    else:\n",
    "        return \"Model tidak ditemukan\"\n",
    "    \n",
    "    img = cv2.imread(img_path)\n",
    "    img = cv2.resize(img, (864, 576))\n",
    "\n",
    "    results = model(img)\n",
    "\n",
    "    cv2.imwrite(\n",
    "        filename=\"static/uploads/detect_img.jpg\", \n",
    "        img=cv2.cvtColor(results[0].plot(), cv2.COLOR_BGR2RGB)\n",
    "    )\n",
    "\n",
    "    detected_classes = [model.names[int(box.cls)] for box in results[0].boxes]\n",
    "    confidences = [float(box.conf) for box in results[0].boxes]\n",
    "\n",
    "    if llm_option == \"qwen\":\n",
    "        response = qwen2(detected_classes)\n",
    "    elif llm_option == \"deepseek\":\n",
    "        response = deepseek(detected_classes)\n",
    "    else:\n",
    "        response = \"Pilih model LLM yang sesuai.\"\n",
    "\n",
    "    return detected_classes, confidences, response"
   ]
  },
  {
   "cell_type": "code",
   "execution_count": 5,
   "metadata": {},
   "outputs": [
    {
     "name": "stdout",
     "output_type": "stream",
     "text": [
      "\n",
      "0: 448x640 1 noctilluca_scintillans, 249.4ms\n",
      "Speed: 12.1ms preprocess, 249.4ms inference, 8.2ms postprocess per image at shape (1, 3, 448, 640)\n",
      "Loaded as API: https://qwen-qwen2-57b-a14b-instruct-demo.hf.space ✔\n"
     ]
    }
   ],
   "source": [
    "detected_classes, confidences, response = predict_img(\"yolov8-detect\", \"qwen\", \"noctilluca_scintillans.jpg\")"
   ]
  },
  {
   "cell_type": "code",
   "execution_count": 2,
   "metadata": {},
   "outputs": [
    {
     "name": "stdout",
     "output_type": "stream",
     "text": [
      "## Taksonomi dan Klasifikasi Plankton, dengan Fokus pada *Dinophysis miles*\n",
      "\n",
      "*Dinophysis miles* adalah spesies dinoflagellata, sejenis plankton yang bersifat mikroskopis.  Untuk memahami klasifikasinya secara mendalam, mari kita bahas aspek-aspek yang Anda minta:\n",
      "\n",
      "**1. Hierarki Taksonomi dalam Plankton:**\n",
      "\n",
      "Sistem taksonomi modern mengikuti hierarki Linnaean, yang mengelompokkan organisme berdasarkan kesamaan karakteristik. Untuk *Dinophysis miles*, hierarkinya kira-kira seperti ini:\n",
      "\n",
      "* **Domain:** Eukarya (organisme dengan sel eukariotik)\n",
      "* **Kerajaan:** Protista (organisme eukariotik yang tidak termasuk hewan, tumbuhan, atau jamur)\n",
      "* **Filum:** Dinoflagellata (organisme bersel tunggal dengan dua flagela)\n",
      "* **Kelas:** Dinophyceae (sebagian besar dinoflagellata)\n",
      "* **Ordo:** Dinophysales\n",
      "* **Famili:** Dinophysiaceae\n",
      "* **Genus:** *Dinophysis*\n",
      "* **Spesies:** *Dinophysis miles*\n",
      "\n",
      "Perhatikan bahwa hierarki ini bisa bervariasi sedikit tergantung pada sistem klasifikasi yang digunakan dan penemuan-penemuan ilmiah terbaru.  Studi genetik modern seringkali menyebabkan revisi pada klasifikasi taksonomi.\n",
      "\n",
      "\n",
      "**2. Kelompok Utama Plankton Berdasarkan Taksonomi:**\n",
      "\n",
      "Plankton terdiri dari berbagai taksa, bukan hanya satu kelompok.  Beberapa kelompok utama berdasarkan taksonomi meliputi:\n",
      "\n",
      "* **Fitoplankton:**  Produsen utama, sebagian besar terdiri dari alga mikroskopis seperti diatom (Bacillariophyceae), dinoflagellata (Dinophyceae), coccolithophores (Haptophyceae), dan cyanobacteria (terkadang diklasifikasikan sebagai bakteri). *Dinophysis miles* termasuk dalam kelompok ini.\n",
      "* **Zooplankton:** Konsumen, terdiri dari hewan mikroskopis dan kecil seperti copepoda (Crustacea), rotifera, krill (Euphausiacea), dan larva berbagai hewan laut.\n",
      "* **Bakterioplankton:** Bakteri dan archaea yang berperan dalam siklus nutrisi.\n",
      "* **Virioplankton:** Virus yang menginfeksi plankton lain.\n",
      "\n",
      "\n",
      "**3. Klasifikasi Plankton Berdasarkan Kemampuan Bergerak:**\n",
      "\n",
      "* **Plankton Holoplanktonik:** Organisme yang menghabiskan seluruh siklus hidupnya sebagai plankton.  Contohnya *Dinophysis miles*.\n",
      "* **Plankton Meroplanktonik:** Organisme yang hanya menghabiskan sebagian siklus hidupnya sebagai plankton (misalnya larva ikan atau kepiting).\n",
      "\n",
      "\n",
      "**4. Klasifikasi Berdasarkan Habitat:**\n",
      "\n",
      "* **Plankton Laut:** Hidup di laut terbuka.  *Dinophysis miles* termasuk dalam kelompok ini.\n",
      "* **Plankton Air Tawar:** Hidup di danau, sungai, dan rawa.\n",
      "\n",
      "\n",
      "**5. Klasifikasi Berdasarkan Siklus Hidup:**\n",
      "\n",
      "Klasifikasi ini lebih relevan untuk spesies individu daripada untuk kelompok plankton secara umum.  *Dinophysis miles*, seperti banyak dinoflagellata, memiliki siklus hidup yang kompleks, mungkin termasuk fase vegetatif dan fase istirahat (kista). Detail siklus hidup masing-masing spesies plankton bervariasi.\n",
      "\n",
      "\n",
      "**6. Klasifikasi Berdasarkan Fungsi dalam Ekosistem:**\n",
      "\n",
      "* **Produsen (Primer):** Fitoplankton seperti *Dinophysis miles* melakukan fotosintesis dan membentuk dasar rantai makanan.\n",
      "* **Konsumen (Sekunder, Tersier, dst.):** Zooplankton dan organisme lain memakan fitoplankton atau plankton lain.\n",
      "* **Pengurai:** Bakterioplankton mendaur ulang nutrisi.\n",
      "\n",
      "\n",
      "**7. Klasifikasi Berdasarkan Ukuran:**\n",
      "\n",
      "Klasifikasi ukuran plankton umumnya dibagi berdasarkan ukuran sebagai berikut:\n",
      "\n",
      "* **Femtoplankton:** <0.2 Î¼m (virus dan bakteri terkecil)\n",
      "* **Picoplankton:** 0.2-2 Î¼m (bakteri dan beberapa alga)\n",
      "* **Nanoplankton:** 2-20 Î¼m (banyak alga dan bakteri)\n",
      "* **Microplankton:** 20-200 Î¼m (banyak dinoflagellata, diatom, dan zooplankton kecil)\n",
      "* **Mesoplankton:** 0.2-20 mm (zooplankton yang lebih besar)\n",
      "* **Macroplankton:** 20-200 mm\n",
      "* **Megaplankton:** >200 mm\n",
      "\n",
      "\n",
      "*Dinophysis miles* akan masuk dalam kategori **microplankton**.\n",
      "\n",
      "Penting untuk diingat bahwa klasifikasi plankton dapat tumpang tindih dan beberapa spesies plankton dapat diklasifikasikan dalam beberapa cara sekaligus.  Contohnya, *Dinophysis miles* adalah fitoplankton, holoplankton, plankton laut, produsen, dan microplankton.\n",
      "\n"
     ]
    }
   ],
   "source": [
    "import requests\n",
    "\n",
    "text_link = \"https://storage.googleapis.com/planktosee-temp-file/texts/f7e383ebfe1f46ad8e33638527a4abd5.txt\"\n",
    "\n",
    "response = requests.get(text_link)\n",
    "if response.status_code == 200:\n",
    "    text = response.text\n",
    "else:\n",
    "    logger.error(f\"Failed to load text from Firebase: {response.status_code}\")\n",
    "\n",
    "print(text)"
   ]
  },
  {
   "cell_type": "code",
   "execution_count": 1,
   "metadata": {},
   "outputs": [
    {
     "data": {
      "text/plain": [
       "{'img_path': 'https://storage.googleapis.com/planktosee-temp-file/images/1d736594507c4915a174fe8e642b23b0.jpg',\n",
       " 'predictions': [['Noctilluca Scintillans', '0.964755']],\n",
       " 'response': 'https://storage.googleapis.com/planktosee-temp-file/texts/79edf46e99ee468fa91d9bcbe0529d52.txt'}"
      ]
     },
     "execution_count": 1,
     "metadata": {},
     "output_type": "execute_result"
    }
   ],
   "source": [
    "import requests\n",
    "\n",
    "url = \"http://127.0.0.1:8000/result\"\n",
    "\n",
    "file = \"sample_image.jpg\"\n",
    "model_option = \"yolov8-acvit\"\n",
    "llm_option = \"qwen\"\n",
    "\n",
    "with open(file, \"rb\") as f:\n",
    "    files = {\"img_path\": f}\n",
    "    \n",
    "    data = {\n",
    "        \"model_option\": model_option,\n",
    "        \"llm_option\": llm_option\n",
    "    }\n",
    "\n",
    "    response = requests.post(url, files=files, data=data)\n",
    "\n",
    "response.json()"
   ]
  }
 ],
 "metadata": {
  "kernelspec": {
   "display_name": "base",
   "language": "python",
   "name": "python3"
  },
  "language_info": {
   "codemirror_mode": {
    "name": "ipython",
    "version": 3
   },
   "file_extension": ".py",
   "mimetype": "text/x-python",
   "name": "python",
   "nbconvert_exporter": "python",
   "pygments_lexer": "ipython3",
   "version": "3.12.7"
  }
 },
 "nbformat": 4,
 "nbformat_minor": 2
}
